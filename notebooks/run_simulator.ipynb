{
 "cells": [
  {
   "cell_type": "code",
   "execution_count": null,
   "metadata": {
    "metadata": {}
   },
   "outputs": [],
   "source": [
    "from datetime import datetime, timedelta\n",
    "from pathlib import Path\n",
    "\n",
    "import dateutil\n",
    "\n",
    "from ck_fridge_sim.control.control_base import (\n",
    "    ControllerSetting,\n",
    "    Disturbance,\n",
    "    Disturbances,\n",
    ")\n",
    "from ck_fridge_sim.simulator.example import (\n",
    "    configure_example_simulation_from_path,\n",
    ")\n",
    "from ck_fridge_sim.solver.solvers import RK12\n",
    "from ck_fridge_sim.sources.sources import (\n",
    "    Constant,\n",
    "    Sinusoid,\n",
    "    Step,\n",
    "    SunAngleAltitude,\n",
    ")\n",
    "from ck_fridge_sim.thermo_tools.unit_conversions import UnitConversions"
   ]
  },
  {
   "cell_type": "code",
   "execution_count": null,
   "metadata": {
    "metadata": {}
   },
   "outputs": [],
   "source": [
    "tz = dateutil.tz.gettz(\"America/Los_Angeles\")\n",
    "start_datetime = datetime(2024, 5, 12, 10, 0, 0, tzinfo=tz)\n",
    "disturbance_list = [\n",
    "    Disturbance(\n",
    "        name=\"ambient_temp__c\",\n",
    "        source=Sinusoid(\n",
    "            amplitude=8.0,\n",
    "            offset=16.0,\n",
    "            shift_time_str=start_datetime.replace(\n",
    "                hour=9, minute=0, second=0, microsecond=0\n",
    "            ).isoformat(),\n",
    "        ),\n",
    "    ),\n",
    "    Disturbance(\n",
    "        name=\"ambient_rh__perc\",\n",
    "        source=Sinusoid(\n",
    "            amplitude=10.0,\n",
    "            offset=50.0,\n",
    "            shift_time_str=start_datetime.replace(\n",
    "                hour=21, minute=0, second=0, microsecond=0\n",
    "            ).isoformat(),\n",
    "        ),\n",
    "    ),\n",
    "    Disturbance(\n",
    "        name=\"machine_room_temp__c\",\n",
    "        source=Step(\n",
    "            start_value=25.0,\n",
    "            end_value=15.0,\n",
    "            step_time_str=start_datetime.replace(\n",
    "                hour=12, minute=0, second=0, microsecond=0\n",
    "            ).isoformat(),\n",
    "        ),\n",
    "    ),\n",
    "    Disturbance(\n",
    "        name=\"sun_angle_altitude\",\n",
    "        source=SunAngleAltitude(\n",
    "            latitude__deg=32.5494799,\n",
    "            longitude__deg=-116.9827151,\n",
    "        ),\n",
    "    ),\n",
    "    Disturbance(\n",
    "        name=\"cloud_cover__perc\",\n",
    "        source=Step(\n",
    "            start_value=0.0,\n",
    "            end_value=50.0,\n",
    "            step_time_str=start_datetime.replace(\n",
    "                hour=14, minute=0, second=0, microsecond=0\n",
    "            ).isoformat(),\n",
    "        ),\n",
    "    ),\n",
    "]\n",
    "disturbances = Disturbances(disturbance_list=disturbance_list)"
   ]
  },
  {
   "cell_type": "code",
   "execution_count": null,
   "metadata": {
    "metadata": {}
   },
   "outputs": [],
   "source": [
    "initial_discharge_pressure__psig = 115\n",
    "discharge_pressure_setpoint = ControllerSetting(\n",
    "    name=\"EC-1|pressure_setpoint\",\n",
    "    controller_name=\"condenser_fan_controller\",\n",
    "    setting_name=\"setpoint\",\n",
    "    value=initial_discharge_pressure__psig,\n",
    "    source=Step(\n",
    "        start_value=initial_discharge_pressure__psig + 10,\n",
    "        end_value=initial_discharge_pressure__psig,\n",
    "        step_time_str=start_datetime.replace(\n",
    "            hour=13, minute=0, second=0, microsecond=0\n",
    "        ).isoformat(),\n",
    "    ),\n",
    ")\n",
    "\n",
    "suction_pressure_setpoint = ControllerSetting(\n",
    "    name=\"LTR-1|pressure_setpoint\",\n",
    "    controller_name=\"lss_1\",\n",
    "    setting_name=\"pi_controller\",\n",
    "    nested_setting_names=[\"setpoint\"],\n",
    "    value=3,\n",
    "    source=Step(\n",
    "        start_value=3,\n",
    "        end_value=1,\n",
    "        step_time_str=start_datetime.replace(\n",
    "            hour=16, minute=0, second=0, microsecond=0\n",
    "        ).isoformat(),\n",
    "    ),\n",
    ")\n",
    "\n",
    "evaporator_setpoints = [\n",
    "    ControllerSetting(\n",
    "        name=f\"{evap}|temp_setpoint\",\n",
    "        controller_name=f\"evaporator_{i+1}_controller\",\n",
    "        setting_name=\"setpoint\",\n",
    "        value=-17.0,\n",
    "        source=Constant(\n",
    "            value=UnitConversions.fahrenheit_to_celsius(-2 + 0.5 * i),\n",
    "        ),\n",
    "    )\n",
    "    for i, evap in enumerate([f\"Evap AU-{i+1}\" for i in range(7)])\n",
    "]\n",
    "\n",
    "hpr_setpoint = ControllerSetting(\n",
    "    name=\"HPR-1|level_setpoint\",\n",
    "    controller_name=\"hpr_level_control\",\n",
    "    setting_name=\"setpoint\",\n",
    "    value=33.0,\n",
    ")\n",
    "\n",
    "settings = [\n",
    "    suction_pressure_setpoint,\n",
    "    discharge_pressure_setpoint,\n",
    "    hpr_setpoint,\n",
    "] + evaporator_setpoints"
   ]
  },
  {
   "cell_type": "code",
   "execution_count": null,
   "metadata": {
    "metadata": {}
   },
   "outputs": [],
   "source": [
    "simulator = configure_example_simulation_from_path(\n",
    "    process_config_path=Path(\"simulation_payload/simple_flowsheet_config.json\"),\n",
    "    control_config_path=Path(\"simulation_payload/simple_control_config.yaml\"),\n",
    "    disturbances=disturbances,\n",
    "    settings=settings,\n",
    "    start_datetime=start_datetime,\n",
    "    end_datetime=start_datetime + timedelta(days=4.0),\n",
    "    solver=RK12(max_step__s=30, relative_tolerance=0.001),\n",
    ")"
   ]
  },
  {
   "cell_type": "code",
   "execution_count": null,
   "metadata": {
    "metadata": {}
   },
   "outputs": [],
   "source": [
    "simulator.process_model.plot_graph(simulator.process_model.current_graph())"
   ]
  },
  {
   "cell_type": "code",
   "execution_count": null,
   "metadata": {
    "metadata": {}
   },
   "outputs": [],
   "source": [
    "# option to load state from json\n",
    "simulator.load_state_from_json(\n",
    "    Path(\"simulation_payload/process_states.json\"),\n",
    "    Path(\"simulation_payload/control_states.json\"),\n",
    ")"
   ]
  },
  {
   "cell_type": "code",
   "execution_count": null,
   "metadata": {
    "metadata": {}
   },
   "outputs": [],
   "source": [
    "solution, measurement_list, actuators_list = simulator.simulate(verbose=True)"
   ]
  },
  {
   "cell_type": "code",
   "execution_count": null,
   "metadata": {},
   "outputs": [],
   "source": [
    "simulator.dump_state_to_json(\n",
    "    Path(\"simulation_payload/process_states.json\"),\n",
    "    Path(\"simulation_payload/control_states.json\"),\n",
    ")"
   ]
  },
  {
   "cell_type": "code",
   "execution_count": null,
   "metadata": {},
   "outputs": [],
   "source": [
    "df = simulator.process_results(solution, measurement_list, actuators_list)\n",
    "df = df.loc[:, ~df.columns.duplicated()]"
   ]
  },
  {
   "cell_type": "code",
   "execution_count": null,
   "metadata": {},
   "outputs": [],
   "source": [
    "fig = simulator.plot_results(\n",
    "    df,\n",
    "    device_names=[\"dual_cool\"],\n",
    "    point_names=[\n",
    "        \"total_refrigeration_power__kw\",\n",
    "    ],\n",
    ")\n",
    "fig.show()"
   ]
  },
  {
   "cell_type": "code",
   "execution_count": null,
   "metadata": {},
   "outputs": [],
   "source": [
    "fig = simulator.plot_results(\n",
    "    df,\n",
    "    device_names=[\"compressor_1\", \"compressor_2\", \"compressor_3\"],\n",
    "    point_names=[\n",
    "        \"suction_mass_flow__kg_s\",\n",
    "        \"sv_position__perc\",\n",
    "        \"compressor_speed__rpm\",\n",
    "    ],\n",
    ")\n",
    "fig.show()"
   ]
  },
  {
   "cell_type": "code",
   "execution_count": null,
   "metadata": {},
   "outputs": [],
   "source": [
    "fig = simulator.plot_results(\n",
    "    df,\n",
    "    device_names=[\"condenser_1\", \"ltr_1\", \"hpr_1\", \"liquidKingValve_1\"],\n",
    "    point_names=[\n",
    "        \"pressure__psig\",\n",
    "        \"level__perc\",\n",
    "        \"fan_speed_1__rpm\",\n",
    "        \"fan_speed_2__rpm\",\n",
    "        \"ambient_temp__c\",\n",
    "    ],\n",
    ")\n",
    "fig.show()"
   ]
  },
  {
   "cell_type": "code",
   "execution_count": null,
   "metadata": {},
   "outputs": [],
   "source": [
    "fig = simulator.plot_results(\n",
    "    df,\n",
    "    device_names=[f\"evaporator_{i+1}\" for i in range(6)] + [\"room_1\"],\n",
    "    point_names=[\"liquid_solenoid_on\", \"fan_speed_1__rpm\", \"air_temp__f\"],\n",
    ")\n",
    "fig.show()"
   ]
  },
  {
   "cell_type": "code",
   "execution_count": null,
   "metadata": {},
   "outputs": [],
   "source": []
  }
 ],
 "metadata": {
  "kernelspec": {
   "display_name": "ck-joule-tools-q4GeWaPv-py3.11",
   "language": "python",
   "name": "python3"
  },
  "language_info": {
   "codemirror_mode": {
    "name": "ipython",
    "version": 3
   },
   "file_extension": ".py",
   "mimetype": "text/x-python",
   "name": "python",
   "nbconvert_exporter": "python",
   "pygments_lexer": "ipython3",
   "version": "3.11.9"
  }
 },
 "nbformat": 4,
 "nbformat_minor": 2
}
